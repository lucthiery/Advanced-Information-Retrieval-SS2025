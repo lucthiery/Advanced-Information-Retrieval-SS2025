{
 "cells": [
  {
   "cell_type": "code",
   "execution_count": 10,
   "id": "ce5be910-df52-4536-8a9f-523f00f068dd",
   "metadata": {},
   "outputs": [
    {
     "name": "stdout",
     "output_type": "stream",
     "text": [
      "/Users/lucthiery/Desktop/1_UNI/TU SS 2025/C_Advanced Information Retrieval/Advanced-Information-Retrieval-SS2025/1_Traditional_TD-IDF\n",
      "/Users/lucthiery/Desktop/1_UNI/TU SS 2025/C_Advanced Information Retrieval/Advanced-Information-Retrieval-SS2025/X_Data\n"
     ]
    },
    {
     "ename": "FileNotFoundError",
     "evalue": "[Errno 2] No such file or directory: '/Users/lucthiery/Desktop/1_UNI/TU SS 2025/C_Advanced Information Retrieval/Advanced-Information-Retrieval-SS2025/X_Data/task4b_train.json'",
     "output_type": "error",
     "traceback": [
      "\u001b[0;31m---------------------------------------------------------------------------\u001b[0m",
      "\u001b[0;31mFileNotFoundError\u001b[0m                         Traceback (most recent call last)",
      "Cell \u001b[0;32mIn[10], line 17\u001b[0m\n\u001b[1;32m     14\u001b[0m PAPERS_PATH \u001b[38;5;241m=\u001b[39m os\u001b[38;5;241m.\u001b[39mpath\u001b[38;5;241m.\u001b[39mjoin(DATA_DIR, \u001b[38;5;124m\"\u001b[39m\u001b[38;5;124mtask4b_papers.json\u001b[39m\u001b[38;5;124m\"\u001b[39m)\n\u001b[1;32m     16\u001b[0m \u001b[38;5;66;03m# --- Load Data ---\u001b[39;00m\n\u001b[0;32m---> 17\u001b[0m \u001b[38;5;28;01mwith\u001b[39;00m \u001b[38;5;28;43mopen\u001b[39;49m\u001b[43m(\u001b[49m\u001b[43mTRAIN_PATH\u001b[49m\u001b[43m)\u001b[49m \u001b[38;5;28;01mas\u001b[39;00m f:\n\u001b[1;32m     18\u001b[0m     train_data \u001b[38;5;241m=\u001b[39m json\u001b[38;5;241m.\u001b[39mload(f)\n\u001b[1;32m     20\u001b[0m \u001b[38;5;28;01mwith\u001b[39;00m \u001b[38;5;28mopen\u001b[39m(PAPERS_PATH) \u001b[38;5;28;01mas\u001b[39;00m f:\n",
      "File \u001b[0;32m/Library/Frameworks/Python.framework/Versions/3.11/lib/python3.11/site-packages/IPython/core/interactiveshell.py:324\u001b[0m, in \u001b[0;36m_modified_open\u001b[0;34m(file, *args, **kwargs)\u001b[0m\n\u001b[1;32m    317\u001b[0m \u001b[38;5;28;01mif\u001b[39;00m file \u001b[38;5;129;01min\u001b[39;00m {\u001b[38;5;241m0\u001b[39m, \u001b[38;5;241m1\u001b[39m, \u001b[38;5;241m2\u001b[39m}:\n\u001b[1;32m    318\u001b[0m     \u001b[38;5;28;01mraise\u001b[39;00m \u001b[38;5;167;01mValueError\u001b[39;00m(\n\u001b[1;32m    319\u001b[0m         \u001b[38;5;124mf\u001b[39m\u001b[38;5;124m\"\u001b[39m\u001b[38;5;124mIPython won\u001b[39m\u001b[38;5;124m'\u001b[39m\u001b[38;5;124mt let you open fd=\u001b[39m\u001b[38;5;132;01m{\u001b[39;00mfile\u001b[38;5;132;01m}\u001b[39;00m\u001b[38;5;124m by default \u001b[39m\u001b[38;5;124m\"\u001b[39m\n\u001b[1;32m    320\u001b[0m         \u001b[38;5;124m\"\u001b[39m\u001b[38;5;124mas it is likely to crash IPython. If you know what you are doing, \u001b[39m\u001b[38;5;124m\"\u001b[39m\n\u001b[1;32m    321\u001b[0m         \u001b[38;5;124m\"\u001b[39m\u001b[38;5;124myou can use builtins\u001b[39m\u001b[38;5;124m'\u001b[39m\u001b[38;5;124m open.\u001b[39m\u001b[38;5;124m\"\u001b[39m\n\u001b[1;32m    322\u001b[0m     )\n\u001b[0;32m--> 324\u001b[0m \u001b[38;5;28;01mreturn\u001b[39;00m \u001b[43mio_open\u001b[49m\u001b[43m(\u001b[49m\u001b[43mfile\u001b[49m\u001b[43m,\u001b[49m\u001b[43m \u001b[49m\u001b[38;5;241;43m*\u001b[39;49m\u001b[43margs\u001b[49m\u001b[43m,\u001b[49m\u001b[43m \u001b[49m\u001b[38;5;241;43m*\u001b[39;49m\u001b[38;5;241;43m*\u001b[39;49m\u001b[43mkwargs\u001b[49m\u001b[43m)\u001b[49m\n",
      "\u001b[0;31mFileNotFoundError\u001b[0m: [Errno 2] No such file or directory: '/Users/lucthiery/Desktop/1_UNI/TU SS 2025/C_Advanced Information Retrieval/Advanced-Information-Retrieval-SS2025/X_Data/task4b_train.json'"
     ]
    }
   ],
   "source": [
    "import json\n",
    "import numpy as np\n",
    "from tqdm import tqdm\n",
    "from sklearn.feature_extraction.text import TfidfVectorizer\n",
    "from sklearn.metrics.pairwise import cosine_similarity\n",
    "\n",
    "import os\n",
    "BASE_DIR = os.getcwd()\n",
    "print(BASE_DIR)\n",
    "DATA_DIR = os.path.abspath(os.path.join(BASE_DIR, \"..\", \"X_Data\"))\n",
    "print(DATA_DIR)\n",
    "\n",
    "TRAIN_PATH = os.path.join(DATA_DIR, \"task4b_train.json\")\n",
    "PAPERS_PATH = os.path.join(DATA_DIR, \"task4b_papers.json\")\n",
    "\n",
    "# --- Load Data ---\n",
    "with open(TRAIN_PATH) as f:\n",
    "    train_data = json.load(f)\n",
    "\n",
    "with open(PAPERS_PATH) as f:\n",
    "    papers_data = json.load(f)\n",
    "\n",
    "# --- Prepare Paper Documents ---\n",
    "paper_ids = []\n",
    "doc_texts = []\n",
    "\n",
    "for paper in papers_data:\n",
    "    paper_ids.append(paper[\"cord_uid\"])\n",
    "    text = paper.get(\"title\", \"\") + \" \" + paper.get(\"abstract\", \"\")\n",
    "    doc_texts.append(text.lower())\n",
    "\n",
    "# --- TF-IDF Vectorization ---\n",
    "vectorizer = TfidfVectorizer(stop_words='english')\n",
    "doc_matrix = vectorizer.fit_transform(doc_texts)\n",
    "\n",
    "# --- Retrieve Top-5 Documents per Tweet ---\n",
    "results = []\n",
    "\n",
    "for item in tqdm(train_data):\n",
    "    tweet_id = item[\"id\"]\n",
    "    tweet_text = item[\"tweet\"].lower()\n",
    "\n",
    "    query_vec = vectorizer.transform([tweet_text])\n",
    "    similarities = cosine_similarity(query_vec, doc_matrix).flatten()\n",
    "\n",
    "    top_indices = np.argsort(similarities)[::-1][:5]\n",
    "    top_doc_ids = [paper_ids[i] for i in top_indices]\n",
    "\n",
    "    results.append({\n",
    "        \"id\": tweet_id,\n",
    "        \"doc_ids\": top_doc_ids\n",
    "    })\n",
    "\n",
    "# --- Save Submission File ---\n",
    "with open(\"submission_tfidf.json\", \"w\") as f:\n",
    "    json.dump(results, f, indent=2)\n",
    "\n",
    "print(\"✅ TF-IDF submission saved as submission_tfidf.json\")\n"
   ]
  },
  {
   "cell_type": "code",
   "execution_count": 8,
   "id": "0d1ba162-8baa-454b-878f-bd5da0f07416",
   "metadata": {},
   "outputs": [
    {
     "name": "stdout",
     "output_type": "stream",
     "text": [
      "/Users/lucthiery/Desktop/1_UNI/TU SS 2025/C_Advanced Information Retrieval/Advanced-Information-Retrieval-SS2025/1_Traditional_TD-IDF\n",
      "/Users/lucthiery/Desktop/1_UNI/TU SS 2025/C_Advanced Information Retrieval/Advanced-Information-Retrieval-SS2025/X_Data\n"
     ]
    }
   ],
   "source": [
    "import os\n",
    "BASE_DIR = os.getcwd()\n",
    "print(BASE_DIR)\n",
    "DATA_DIR = os.path.abspath(os.path.join(BASE_DIR, \"..\", \"X_Data\"))\n",
    "print(DATA_DIR)\n",
    "\n",
    "TRAIN_PATH = os.path.join(DATA_DIR, \"task4b_train.json\")\n",
    "PAPERS_PATH = os.path.join(DATA_DIR, \"task4b_papers.json\")"
   ]
  },
  {
   "cell_type": "code",
   "execution_count": null,
   "id": "5e3a807a-282f-4e27-a218-12e4117de441",
   "metadata": {},
   "outputs": [],
   "source": []
  },
  {
   "cell_type": "code",
   "execution_count": null,
   "id": "9a0ae53b-1d41-4116-ba2d-648acfe55f59",
   "metadata": {},
   "outputs": [],
   "source": []
  }
 ],
 "metadata": {
  "kernelspec": {
   "display_name": "Python 3 (ipykernel)",
   "language": "python",
   "name": "python3"
  },
  "language_info": {
   "codemirror_mode": {
    "name": "ipython",
    "version": 3
   },
   "file_extension": ".py",
   "mimetype": "text/x-python",
   "name": "python",
   "nbconvert_exporter": "python",
   "pygments_lexer": "ipython3",
   "version": "3.11.5"
  }
 },
 "nbformat": 4,
 "nbformat_minor": 5
}
