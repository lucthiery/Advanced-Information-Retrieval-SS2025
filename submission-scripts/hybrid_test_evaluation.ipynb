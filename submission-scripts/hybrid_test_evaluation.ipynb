{
 "cells": [
  {
   "cell_type": "code",
   "execution_count": null,
   "id": "832d4ea8-a826-4c3c-bd8a-3c2d79570ad6",
   "metadata": {},
   "outputs": [],
   "source": [
    "!pip install datasets\n",
    "!pip install --upgrade sentence-transformers\n",
    "!pip install langchain_experimental"
   ]
  },
  {
   "cell_type": "code",
   "execution_count": 1,
   "id": "12e29c26-fa0c-44ae-9f5e-9d72bd9cf5e1",
   "metadata": {},
   "outputs": [],
   "source": [
    "import pandas as pd\n",
    "import numpy as np\n",
    "import ast\n",
    "import json\n",
    "from tqdm import tqdm\n",
    "from sentence_transformers import CrossEncoder\n",
    "from torch.utils.data import DataLoader\n",
    "import torch\n",
    "from datasets import Dataset\n",
    "from datasets import load_dataset\n",
    "from sentence_transformers.util import mine_hard_negatives\n",
    "from sentence_transformers import SentenceTransformer\n",
    "from sentence_transformers.cross_encoder.losses import BinaryCrossEntropyLoss\n",
    "from sentence_transformers.cross_encoder import CrossEncoderTrainer\n",
    "from sentence_transformers.cross_encoder import CrossEncoderTrainingArguments\n",
    "import os\n",
    "from collections import defaultdict\n",
    "from sentence_transformers.cross_encoder.evaluation import CrossEncoderRerankingEvaluator\n",
    "from langchain_experimental.text_splitter import SemanticChunker\n",
    "from langchain_community.embeddings import HuggingFaceEmbeddings"
   ]
  },
  {
   "cell_type": "code",
   "execution_count": 2,
   "id": "a4455079-2211-4ffa-8fff-1dacb984c81d",
   "metadata": {},
   "outputs": [],
   "source": [
    "device = torch.device(\"cuda\" if torch.cuda.is_available() else \"cpu\")"
   ]
  },
  {
   "cell_type": "code",
   "execution_count": 3,
   "id": "de019a24-9ada-4fd2-a660-40a1d8b9875e",
   "metadata": {},
   "outputs": [
    {
     "data": {
      "text/html": [
       "<div>\n",
       "<style scoped>\n",
       "    .dataframe tbody tr th:only-of-type {\n",
       "        vertical-align: middle;\n",
       "    }\n",
       "\n",
       "    .dataframe tbody tr th {\n",
       "        vertical-align: top;\n",
       "    }\n",
       "\n",
       "    .dataframe thead th {\n",
       "        text-align: right;\n",
       "    }\n",
       "</style>\n",
       "<table border=\"1\" class=\"dataframe\">\n",
       "  <thead>\n",
       "    <tr style=\"text-align: right;\">\n",
       "      <th></th>\n",
       "      <th>post_id</th>\n",
       "      <th>tweet_text</th>\n",
       "      <th>bm25_topk</th>\n",
       "      <th>Unnamed: 0</th>\n",
       "      <th>retrieved</th>\n",
       "    </tr>\n",
       "  </thead>\n",
       "  <tbody>\n",
       "    <tr>\n",
       "      <th>0</th>\n",
       "      <td>1</td>\n",
       "      <td>A recent research study published yesterday cl...</td>\n",
       "      <td>[8fkzc445, qgwu9fsk, bttme4wn, j0bu0upi, jqwox...</td>\n",
       "      <td>0</td>\n",
       "      <td>[8zufbeuz, tpic8ddl, 5hei9fac, j0bu0upi, jzosd...</td>\n",
       "    </tr>\n",
       "    <tr>\n",
       "      <th>1</th>\n",
       "      <td>2</td>\n",
       "      <td>\"We should track the long-term effects of thes...</td>\n",
       "      <td>[evf9nz05, ynaxwnlp, 5vp2r2bd, 65n6p550, y8puo...</td>\n",
       "      <td>1</td>\n",
       "      <td>[evf9nz05, 3swdnn29, pyz2tnhk, i0swl50w, ikacd...</td>\n",
       "    </tr>\n",
       "    <tr>\n",
       "      <th>2</th>\n",
       "      <td>3</td>\n",
       "      <td>the agony of \"long haul\" covid-19 symptoms.</td>\n",
       "      <td>[l4u01fzk, y6jw3gws, ls4qfvwq, qvuuhkg6, 6gm8k...</td>\n",
       "      <td>2</td>\n",
       "      <td>[m3m2n3fw, 8qdcls1k, jbs3d5xo, o4vvlmr4, v53e7...</td>\n",
       "    </tr>\n",
       "    <tr>\n",
       "      <th>3</th>\n",
       "      <td>4</td>\n",
       "      <td>Home and online monitoring and assessment of b...</td>\n",
       "      <td>[ru2ty1y9, bnkggl84, wabd3b9z, 5gshj480, rpxw3...</td>\n",
       "      <td>3</td>\n",
       "      <td>[ru2ty1y9, wabd3b9z, zmk8bbcd, kkbkh4yi, r4q0z...</td>\n",
       "    </tr>\n",
       "    <tr>\n",
       "      <th>4</th>\n",
       "      <td>5</td>\n",
       "      <td>it may be a long one, folks! to avoid exceedin...</td>\n",
       "      <td>[f5p37j7g, x9rv72dl, 32gnw4sv, n9zqc1gm, yoiq6...</td>\n",
       "      <td>4</td>\n",
       "      <td>[f5p37j7g, l8sozg8v, mz1bof2x, nzat41wu, kvu0h...</td>\n",
       "    </tr>\n",
       "  </tbody>\n",
       "</table>\n",
       "</div>"
      ],
      "text/plain": [
       "   post_id                                         tweet_text  \\\n",
       "0        1  A recent research study published yesterday cl...   \n",
       "1        2  \"We should track the long-term effects of thes...   \n",
       "2        3        the agony of \"long haul\" covid-19 symptoms.   \n",
       "3        4  Home and online monitoring and assessment of b...   \n",
       "4        5  it may be a long one, folks! to avoid exceedin...   \n",
       "\n",
       "                                           bm25_topk  Unnamed: 0  \\\n",
       "0  [8fkzc445, qgwu9fsk, bttme4wn, j0bu0upi, jqwox...           0   \n",
       "1  [evf9nz05, ynaxwnlp, 5vp2r2bd, 65n6p550, y8puo...           1   \n",
       "2  [l4u01fzk, y6jw3gws, ls4qfvwq, qvuuhkg6, 6gm8k...           2   \n",
       "3  [ru2ty1y9, bnkggl84, wabd3b9z, 5gshj480, rpxw3...           3   \n",
       "4  [f5p37j7g, x9rv72dl, 32gnw4sv, n9zqc1gm, yoiq6...           4   \n",
       "\n",
       "                                           retrieved  \n",
       "0  [8zufbeuz, tpic8ddl, 5hei9fac, j0bu0upi, jzosd...  \n",
       "1  [evf9nz05, 3swdnn29, pyz2tnhk, i0swl50w, ikacd...  \n",
       "2  [m3m2n3fw, 8qdcls1k, jbs3d5xo, o4vvlmr4, v53e7...  \n",
       "3  [ru2ty1y9, wabd3b9z, zmk8bbcd, kkbkh4yi, r4q0z...  \n",
       "4  [f5p37j7g, l8sozg8v, mz1bof2x, nzat41wu, kvu0h...  "
      ]
     },
     "execution_count": 3,
     "metadata": {},
     "output_type": "execute_result"
    }
   ],
   "source": [
    "PATH_COLLECTION_DATA = '../X_Data/subtask4b_collection_data.pkl'\n",
    "PATH_QUERY_TEST = '../X_Data/subtask4b_query_tweets_test.tsv'\n",
    "PATH_BM25 = '../X_Data/bm25_test.tsv'\n",
    "PATH_GRANITE = '../X_Data/granite_test.tsv'\n",
    "\n",
    "df_collection = pd.read_pickle(PATH_COLLECTION_DATA)\n",
    "df_test_raw = pd.read_csv(PATH_QUERY_TEST, sep='\\t')\n",
    "df_bm25 = pd.read_csv(PATH_BM25, sep='\\t')\n",
    "df_granite = pd.read_csv(PATH_GRANITE, sep='\\t')\n",
    "\n",
    "df_granite[\"retrieved\"] = df_granite[\"retrieved\"].apply(ast.literal_eval)\n",
    "df_bm25[\"bm25_topk\"] = df_bm25[\"bm25_topk\"].apply(ast.literal_eval)\n",
    "\n",
    "df_test = pd.merge(df_test_raw, df_bm25, on=[\"post_id\", \"tweet_text\"])\n",
    "df_test = pd.merge(df_test, df_granite, on=[\"post_id\", \"tweet_text\"])\n",
    "\n",
    "df_test.head()"
   ]
  },
  {
   "cell_type": "code",
   "execution_count": null,
   "id": "42a8bb1e-1a18-4079-be58-fd7b16aecb7a",
   "metadata": {},
   "outputs": [],
   "source": [
    "# reranker contains the model files (too big to upload)\n",
    "MODEL_DIRECTORY = './reranker/'\n",
    "EMBEDDING_MODEL_NAME = \"sentence-transformers/static-retrieval-mrl-en-v1\""
   ]
  },
  {
   "cell_type": "code",
   "execution_count": 24,
   "id": "efec66fd-ec95-48f6-b297-8718225d8d1a",
   "metadata": {},
   "outputs": [],
   "source": [
    "embedding_model = HuggingFaceEmbeddings(model_name=EMBEDDING_MODEL_NAME)\n",
    "text_splitter = SemanticChunker(\n",
    "    embeddings=embedding_model,\n",
    "    breakpoint_threshold_type=\"gradient\",\n",
    "    breakpoint_threshold_amount=0.3\n",
    ")\n",
    "\n",
    "def semantic_chunking(text):\n",
    "    documents = text_splitter.create_documents([text])\n",
    "    chunks = [doc.page_content for doc in documents]\n",
    "    return chunks"
   ]
  },
  {
   "cell_type": "code",
   "execution_count": 25,
   "id": "789a8ff2-3801-4e6b-b343-d674819cda9a",
   "metadata": {},
   "outputs": [],
   "source": [
    "model = CrossEncoder(MODEL_DIRECTORY, device=device)"
   ]
  },
  {
   "cell_type": "code",
   "execution_count": 26,
   "id": "2566b214-bc86-4d9b-b925-8f6727dbf23d",
   "metadata": {},
   "outputs": [
    {
     "name": "stderr",
     "output_type": "stream",
     "text": [
      "Processing rows: 100%|██████████| 1446/1446 [02:22<00:00, 10.14it/s]\n"
     ]
    }
   ],
   "source": [
    "collection_dict = df_collection.set_index('cord_uid')['abstract'].to_dict()\n",
    "\n",
    "pairs = []\n",
    "query_indices = []\n",
    "uid_mappings = []\n",
    "\n",
    "for idx, row in tqdm(enumerate(df_test.itertuples()), desc=\"Processing rows\", total=len(df_test)):\n",
    "    query = row.tweet_text\n",
    "    candidate_uids = row.retrieved\n",
    "\n",
    "    for uid in candidate_uids[:25]:\n",
    "        abstract = collection_dict[uid]\n",
    "        chunks = semantic_chunking(abstract)\n",
    "\n",
    "        for chunk in chunks:\n",
    "            pairs.append([query, chunk])\n",
    "            query_indices.append(idx)\n",
    "            uid_mappings.append(uid)"
   ]
  },
  {
   "cell_type": "code",
   "execution_count": 27,
   "id": "790fc37d-a448-4ddb-b33d-ef95fd184e5b",
   "metadata": {},
   "outputs": [],
   "source": [
    "all_scores = model.predict(pairs)\n",
    "\n",
    "query_results = [defaultdict(float) for _ in range(len(df_test))]\n",
    "\n",
    "for idx, uid, score in zip(query_indices, uid_mappings, all_scores):\n",
    "    query_results[idx][uid] = max(query_results[idx][uid], score)\n",
    "\n",
    "reranked_uids = []\n",
    "\n",
    "for idx in range(len(df_test)):\n",
    "    max_scores = query_results[idx]\n",
    "    sorted_uids = sorted(max_scores.items(), key=lambda x: x[1], reverse=True)\n",
    "    reranked_uids.append([uid for uid, _ in sorted_uids])\n",
    "\n",
    "df_test['reranked'] = reranked_uids"
   ]
  },
  {
   "cell_type": "code",
   "execution_count": 28,
   "id": "47a4cdb6-eade-4705-b981-513b4d6c8ef0",
   "metadata": {},
   "outputs": [],
   "source": [
    "def reciprocal_rank_fusion(list1, list2, k=40, alpha=0.5):\n",
    "    \"\"\"\n",
    "    Compute Reciprocal Rank Fusion (RRF) score for two ranked lists.\n",
    "    \"\"\"\n",
    "    beta = 1 - alpha\n",
    "    scores = defaultdict(float)\n",
    "\n",
    "    for rank, uid in enumerate(list1):\n",
    "        scores[uid] += alpha / (k + rank)\n",
    "    for rank, uid in enumerate(list2):\n",
    "        scores[uid] += beta / (k + rank)\n",
    "\n",
    "    # Sort by highest score\n",
    "    sorted_uids = sorted(scores.items(), key=lambda x: x[1], reverse=True)\n",
    "    return [uid for uid, _ in sorted_uids[:5]]  # top 5"
   ]
  },
  {
   "cell_type": "code",
   "execution_count": null,
   "id": "16a4fbac-430e-4e94-9290-272f39e465e4",
   "metadata": {},
   "outputs": [],
   "source": [
    "def get_performance_mrr(data, col_gold, col_pred, list_k=[1, 5, 10]):\n",
    "    d_performance = {}\n",
    "    for k in list_k:\n",
    "        data[\"in_topx\"] = data.apply(lambda x: (1/([i for i in x[col_pred][:k]].index(x[col_gold]) + 1) if x[col_gold] in [i for i in x[col_pred][:k]] else 0), axis=1)\n",
    "        d_performance[k] = data[\"in_topx\"].mean()\n",
    "    return d_performance"
   ]
  },
  {
   "cell_type": "code",
   "execution_count": null,
   "id": "054eade5-70e9-4450-bf20-5e8f6f5ac4c0",
   "metadata": {},
   "outputs": [],
   "source": [
    "df_test[\"hybrid\"] = df_test.apply(\n",
    "    lambda x: reciprocal_rank_fusion(\n",
    "        x[\"bm25_topk\"],\n",
    "        x[\"reranked\"],\n",
    "        k=6, # k and alpha obtained through grid search\n",
    "        alpha=0.43\n",
    "    ),\n",
    "    axis=1\n",
    ")"
   ]
  },
  {
   "cell_type": "code",
   "execution_count": null,
   "id": "721617a2-f744-4ac0-8860-5b9d886bf8b6",
   "metadata": {},
   "outputs": [],
   "source": [
    "df_test.rename(columns={\"hybrid\": \"preds\"})[[\"post_id\", \"preds\"]].to_csv(\"../submissions/hybrid_predictions_test.tsv\", index=None, sep=\"\\t\")"
   ]
  }
 ],
 "metadata": {
  "kernelspec": {
   "display_name": "Python 3",
   "language": "python",
   "name": "python3"
  },
  "language_info": {
   "codemirror_mode": {
    "name": "ipython",
    "version": 3
   },
   "file_extension": ".py",
   "mimetype": "text/x-python",
   "name": "python",
   "nbconvert_exporter": "python",
   "pygments_lexer": "ipython3",
   "version": "3.10.12"
  }
 },
 "nbformat": 4,
 "nbformat_minor": 5
}
